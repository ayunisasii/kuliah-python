{
 "cells": [
  {
   "cell_type": "markdown",
   "metadata": {},
   "source": [
    "# Conditions, Control Flow and Looping\n",
    "Conditions --> membahas if else  \n",
    "Control Flow dan Looping --> while loop dan for loop"
   ]
  },
  {
   "cell_type": "markdown",
   "metadata": {},
   "source": [
    "## Conditions or Conditional"
   ]
  },
  {
   "cell_type": "markdown",
   "metadata": {},
   "source": [
    "Pada Conditional menggunakan operasi perbandingan seperti:  \n",
    "==, <, <=, >, >=, !="
   ]
  },
  {
   "cell_type": "code",
   "execution_count": 5,
   "metadata": {},
   "outputs": [
    {
     "name": "stdout",
     "output_type": "stream",
     "text": [
      "12 lebih besar dari 10\n"
     ]
    }
   ],
   "source": [
    "angka = 12\n",
    "print(f'{angka} lebih besar dari 10')"
   ]
  },
  {
   "attachments": {
    "image.png": {
     "image/png": "[encoded data removed]"
    }
   },
   "cell_type": "markdown",
   "metadata": {},
   "source": [
    "Jenis kesalahan ada dua:  \n",
    "1. Kesalahan Syntax --> mudah terdeteksi  \n",
    "2. Kesalahan Logika  \n",
    "\n",
    "if statement:  \n",
    "![image.png](attachment:image.png)  \n",
    "\n",
    "Kondisi disarankan merupakan boolean."
   ]
  },
  {
   "cell_type": "code",
   "execution_count": 8,
   "metadata": {},
   "outputs": [
    {
     "name": "stdout",
     "output_type": "stream",
     "text": [
      "9 lebih besar dari 5\n"
     ]
    }
   ],
   "source": [
    "angka = 9\n",
    "if True:\n",
    "    print(f'{angka} lebih besar dari 5')"
   ]
  },
  {
   "cell_type": "code",
   "execution_count": 9,
   "metadata": {},
   "outputs": [
    {
     "name": "stdout",
     "output_type": "stream",
     "text": [
      "2 lebih besar dari 5\n"
     ]
    }
   ],
   "source": [
    "angka = 2\n",
    "if True:\n",
    "    print(f\"{angka} lebih besar dari 5\")"
   ]
  },
  {
   "cell_type": "code",
   "execution_count": 1,
   "metadata": {},
   "outputs": [],
   "source": [
    "angka = 2\n",
    "if False:\n",
    "    print(f\"{angka} lebih besar dari 5\")"
   ]
  },
  {
   "cell_type": "markdown",
   "metadata": {},
   "source": [
    "Algoritma:  \n",
    "jika angka >5 maka <kondisi> harus True  \n",
    "jika angka <5 maka <kondisi> harus False"
   ]
  },
  {
   "cell_type": "markdown",
   "metadata": {},
   "source": []
  },
  {
   "cell_type": "code",
   "execution_count": 12,
   "metadata": {},
   "outputs": [
    {
     "name": "stdout",
     "output_type": "stream",
     "text": [
      "False\n"
     ]
    }
   ],
   "source": [
    "angka = 2\n",
    "kondisi = angka > 5\n",
    "print(kondisi)"
   ]
  },
  {
   "cell_type": "code",
   "execution_count": 13,
   "metadata": {},
   "outputs": [
    {
     "name": "stdout",
     "output_type": "stream",
     "text": [
      "True\n"
     ]
    }
   ],
   "source": [
    "angka = 10\n",
    "kondisi = angka > 5\n",
    "print(kondisi)"
   ]
  },
  {
   "cell_type": "code",
   "execution_count": 15,
   "metadata": {},
   "outputs": [],
   "source": [
    "# Ide:\n",
    "angka = 2\n",
    "kondisi = angka > 5\n",
    "if kondisi:\n",
    "    print(f\"{angka} lebih besar dari 5\")\n"
   ]
  },
  {
   "cell_type": "code",
   "execution_count": 16,
   "metadata": {},
   "outputs": [
    {
     "name": "stdout",
     "output_type": "stream",
     "text": [
      "7 lebih besar dari 5\n"
     ]
    }
   ],
   "source": [
    "angka = 7\n",
    "kondisi = angka > 5\n",
    "if kondisi:\n",
    "    print(f\"{angka} lebih besar dari 5\")"
   ]
  },
  {
   "cell_type": "code",
   "execution_count": 18,
   "metadata": {},
   "outputs": [
    {
     "name": "stdout",
     "output_type": "stream",
     "text": [
      "7 lebih besar dari 5\n"
     ]
    }
   ],
   "source": [
    "angka = 7\n",
    "if angka > 5:\n",
    "    print(f\"{angka} lebih besar dari 5\")"
   ]
  },
  {
   "cell_type": "code",
   "execution_count": 19,
   "metadata": {},
   "outputs": [
    {
     "name": "stdout",
     "output_type": "stream",
     "text": [
      "Ini sudah diluar if statement\n"
     ]
    }
   ],
   "source": [
    "angka = 2\n",
    "if angka > 5:\n",
    "    print(f\"{angka} lebih besar dari 5\")\n",
    "print(\"Ini sudah diluar if statement\")"
   ]
  },
  {
   "cell_type": "code",
   "execution_count": 20,
   "metadata": {},
   "outputs": [
    {
     "name": "stdout",
     "output_type": "stream",
     "text": [
      "8 lebih besar dari 5\n",
      "Ini sudah diluar if statement\n"
     ]
    }
   ],
   "source": [
    "angka = 8\n",
    "if angka > 5:\n",
    "    print(f\"{angka} lebih besar dari 5\") # print yang ada dalam statement\n",
    "print(\"Ini sudah diluar if statement\")"
   ]
  },
  {
   "attachments": {
    "image-2.png": {
     "image/png": "[encoded data removed]"
    },
    "image-3.png": {
     "image/png": "[encoded data removed]"
    },
    "image.png": {
     "image/png": "[encoded data removed]"
    }
   },
   "cell_type": "markdown",
   "metadata": {},
   "source": [
    "Jenis-jenis IF statement:  \n",
    "1. 1 kondisi  \n",
    "![image-3.png](attachment:image-3.png)  \n",
    "2. 2 kondisi  \n",
    "![image-2.png](attachment:image-2.png)  \n",
    "3. 3 kondisi  \n",
    "![image.png](attachment:image.png)"
   ]
  },
  {
   "cell_type": "code",
   "execution_count": 21,
   "metadata": {},
   "outputs": [
    {
     "name": "stdout",
     "output_type": "stream",
     "text": [
      "2 lebih kecil dari 5\n"
     ]
    }
   ],
   "source": [
    "# 2 kondisi\n",
    "angka = 2\n",
    "if angka > 5:\n",
    "    print(f\"{angka} lebih besar dari 5\")\n",
    "else:\n",
    "    print(f\"{angka} lebih kecil dari 5\")"
   ]
  },
  {
   "cell_type": "code",
   "execution_count": 22,
   "metadata": {},
   "outputs": [
    {
     "name": "stdout",
     "output_type": "stream",
     "text": [
      "5 lebih kecil dari 5\n"
     ]
    }
   ],
   "source": [
    "# 2 kondisi\n",
    "angka = 5\n",
    "if angka > 5:\n",
    "    print(f\"{angka} lebih besar dari 5\")\n",
    "else:\n",
    "    print(f\"{angka} lebih kecil dari 5\")"
   ]
  },
  {
   "cell_type": "code",
   "execution_count": 2,
   "metadata": {},
   "outputs": [
    {
     "name": "stdout",
     "output_type": "stream",
     "text": [
      "5 sama dengan 5\n"
     ]
    }
   ],
   "source": [
    "# 3 kondisi\n",
    "angka = 5\n",
    "if angka > 5:\n",
    "    print(f\"{angka} lebih besar dari 5\")\n",
    "elif angka == 5:\n",
    "    print(f\"{angka} sama dengan 5\")\n",
    "else:\n",
    "    print((f\"{angka} lebih kecil dari 5\"))\n",
    "    "
   ]
  },
  {
   "cell_type": "code",
   "execution_count": 32,
   "metadata": {},
   "outputs": [
    {
     "name": "stdout",
     "output_type": "stream",
     "text": [
      "yes\n",
      "betul\n",
      "oke\n"
     ]
    }
   ],
   "source": [
    "# Exercise \n",
    "x = 0\n",
    "y = 5\n",
    "\n",
    "if x < y:\n",
    "    print('yes')\n",
    "if y < x:\n",
    "    print('ya')\n",
    "if x:\n",
    "    print('benar')\n",
    "if y:\n",
    "    print('betul')\n",
    "if 'aul' in \"grault\":\n",
    "    print('oke')\n",
    "if 'quux' in ['foo', 'bar', 'baz']:\n",
    "    print('yoi')\n",
    "    "
   ]
  },
  {
   "cell_type": "code",
   "execution_count": 33,
   "metadata": {},
   "outputs": [
    {
     "name": "stdout",
     "output_type": "stream",
     "text": [
      "cari tukang buah yang lain\n"
     ]
    }
   ],
   "source": [
    "#  contoh lain \n",
    "tukang_buah = ['pepaya', 'mangga', 'pisang', 'jambu']\n",
    "if 'jeruk'in tukang_buah:\n",
    "    print('beli jeruk')\n",
    "else:\n",
    "    print('cari tukang buah yang lain')\n",
    "    "
   ]
  },
  {
   "cell_type": "markdown",
   "metadata": {},
   "source": [
    "#### Nested if (if bersarang)"
   ]
  },
  {
   "cell_type": "code",
   "execution_count": 34,
   "metadata": {},
   "outputs": [
    {
     "name": "stdout",
     "output_type": "stream",
     "text": [
      "mampir\n",
      "cari tukang buah yang lain\n"
     ]
    }
   ],
   "source": [
    "tukang_buah = ['pepaya', 'mangga', 'pisang', 'jambu']\n",
    "if len(tukang_buah) > 3:\n",
    "    print('mampir')\n",
    "    if 'jeruk' in tukang_buah:\n",
    "        print('beli jeruk')\n",
    "    else:\n",
    "        print('cari tukang buah yang lain')\n",
    "else:\n",
    "    print('tidak mampir')\n"
   ]
  },
  {
   "cell_type": "code",
   "execution_count": 35,
   "metadata": {},
   "outputs": [
    {
     "name": "stdout",
     "output_type": "stream",
     "text": [
      "tidak mampir\n"
     ]
    }
   ],
   "source": [
    "tukang_buah = ['pepaya', 'mangga', 'pisang', 'jambu']\n",
    "if len(tukang_buah) > 5:\n",
    "    print('mampir')\n",
    "    if 'jeruk' in tukang_buah:\n",
    "        print('beli jeruk')\n",
    "    else:\n",
    "        print('cari tukang buah yang lain')\n",
    "else:\n",
    "    print('tidak mampir')\n"
   ]
  },
  {
   "cell_type": "markdown",
   "metadata": {},
   "source": [
    "Exercise  \n",
    "Tulislah syntax program untuk mengecek angka ganjil dan genap"
   ]
  },
  {
   "cell_type": "code",
   "execution_count": 46,
   "metadata": {},
   "outputs": [
    {
     "name": "stdout",
     "output_type": "stream",
     "text": [
      "5 adalah bilangan ganjil\n"
     ]
    }
   ],
   "source": [
    "angka = 5\n",
    "if angka % 2 == 0:\n",
    "    print(f'{angka} adalah bilangan genap')\n",
    "else:\n",
    "    print(f'{angka} adalah bilangan ganjil')\n"
   ]
  },
  {
   "cell_type": "code",
   "execution_count": 57,
   "metadata": {},
   "outputs": [
    {
     "name": "stdout",
     "output_type": "stream",
     "text": [
      "10 adalah bilangan genap\n"
     ]
    }
   ],
   "source": [
    "angka = 10\n",
    "if angka % 2:\n",
    "    print(f'{angka} adalah bilangan ganjil')\n",
    "else:\n",
    "    print(f'{angka} adalah bilangan genap')\n"
   ]
  },
  {
   "cell_type": "code",
   "execution_count": 3,
   "metadata": {},
   "outputs": [],
   "source": [
    "# Jika menggunakan perintah input\n",
    "angka = input('Masukkan bilangan: ')"
   ]
  },
  {
   "cell_type": "code",
   "execution_count": 48,
   "metadata": {},
   "outputs": [
    {
     "data": {
      "text/plain": [
       "str"
      ]
     },
     "execution_count": 48,
     "metadata": {},
     "output_type": "execute_result"
    }
   ],
   "source": [
    "type(angka)"
   ]
  },
  {
   "cell_type": "code",
   "execution_count": 49,
   "metadata": {},
   "outputs": [],
   "source": [
    "# Casting dari str ke int\n",
    "angka = int(angka)"
   ]
  },
  {
   "cell_type": "code",
   "execution_count": 50,
   "metadata": {},
   "outputs": [
    {
     "data": {
      "text/plain": [
       "int"
      ]
     },
     "execution_count": 50,
     "metadata": {},
     "output_type": "execute_result"
    }
   ],
   "source": [
    "type(angka)"
   ]
  },
  {
   "cell_type": "code",
   "execution_count": 4,
   "metadata": {},
   "outputs": [
    {
     "name": "stdout",
     "output_type": "stream",
     "text": [
      "12 adalah bilangan genap\n"
     ]
    }
   ],
   "source": [
    "angka = input('Masukkan angka: ')\n",
    "if angka.isdecimal():\n",
    "    angka= int(angka)   # Casting dari str ke int\n",
    "    if angka % 2 == 0:\n",
    "        print(f'{angka} adalah bilangan genap')\n",
    "    else:\n",
    "        print(f'{angka} adalah bilangan ganjil')\n",
    "else:\n",
    "    print(\"Input tidak sesuai, hanya menerima integer\")\n"
   ]
  },
  {
   "cell_type": "markdown",
   "metadata": {},
   "source": [
    "##### Pass Keyword\n",
    "pass adalah sebuah keyword yang kita belum tahu mau menulis apa didalam statement tersebut."
   ]
  },
  {
   "cell_type": "code",
   "execution_count": 5,
   "metadata": {},
   "outputs": [],
   "source": [
    "angka = 5\n",
    "if angka % 2:\n",
    "    pass     # TODO: [find the opposite of even number]\n",
    "else:\n",
    "    print(f'{angka} angka adalah bilangan genap')"
   ]
  },
  {
   "cell_type": "markdown",
   "metadata": {},
   "source": [
    "## Looping \n",
    "Jenis looping ada dua yaitu:  \n",
    "1. while loop  \n",
    "2. for loop"
   ]
  },
  {
   "attachments": {
    "image.png": {
     "image/png": "[encoded data removed]"
    }
   },
   "cell_type": "markdown",
   "metadata": {},
   "source": [
    "### while loop\n",
    "while mirip dengan if, tetapi fungsinya berbeda.  \n",
    "syntax while:  \n",
    "![image.png](attachment:image.png)"
   ]
  },
  {
   "cell_type": "code",
   "execution_count": 1,
   "metadata": {},
   "outputs": [
    {
     "name": "stdout",
     "output_type": "stream",
     "text": [
      "Hello world!\n"
     ]
    }
   ],
   "source": [
    "if True:\n",
    "    print(\"Hello world!\")"
   ]
  },
  {
   "cell_type": "code",
   "execution_count": 2,
   "metadata": {},
   "outputs": [],
   "source": [
    "if False:\n",
    "    print(\"Hello world!\")"
   ]
  },
  {
   "cell_type": "code",
   "execution_count": 3,
   "metadata": {},
   "outputs": [],
   "source": [
    "while False:\n",
    "    print('Hello world!')"
   ]
  },
  {
   "cell_type": "code",
   "execution_count": null,
   "metadata": {},
   "outputs": [],
   "source": [
    "# infinite loop\n",
    "while True:\n",
    "    print('Hello world!')"
   ]
  },
  {
   "cell_type": "markdown",
   "metadata": {},
   "source": [
    "Pada while loop harus ada satu titik yang bernilai False supaya tidak terjadi infinite loop."
   ]
  },
  {
   "cell_type": "code",
   "execution_count": 2,
   "metadata": {},
   "outputs": [
    {
     "name": "stdout",
     "output_type": "stream",
     "text": [
      "1\n"
     ]
    }
   ],
   "source": [
    "# Update kondisi di while loop\n",
    "i = 0\n",
    "i = i + 1\n",
    "print(i)"
   ]
  },
  {
   "cell_type": "markdown",
   "metadata": {},
   "source": [
    "Penulisan i = i + 1 sama dengan i += 1  \n",
    "Penulisan i = i - 1 sama dengan i -= 1"
   ]
  },
  {
   "cell_type": "code",
   "execution_count": 3,
   "metadata": {},
   "outputs": [
    {
     "name": "stdout",
     "output_type": "stream",
     "text": [
      "Hello World\n",
      "Hello World\n",
      "Hello World\n",
      "Hello World\n",
      "Hello World\n"
     ]
    }
   ],
   "source": [
    "i = 0\n",
    "while i < 5:\n",
    "    print('Hello World')\n",
    "    i += 1"
   ]
  },
  {
   "cell_type": "code",
   "execution_count": 4,
   "metadata": {},
   "outputs": [
    {
     "name": "stdout",
     "output_type": "stream",
     "text": [
      "0 : Hello World\n",
      "1 : Hello World\n",
      "2 : Hello World\n",
      "3 : Hello World\n",
      "4 : Hello World\n"
     ]
    }
   ],
   "source": [
    "i = 0\n",
    "while i < 5:\n",
    "    print(f'{i} : Hello World')\n",
    "    i += 1"
   ]
  },
  {
   "cell_type": "code",
   "execution_count": 5,
   "metadata": {},
   "outputs": [
    {
     "name": "stdout",
     "output_type": "stream",
     "text": [
      "1 : Hello World\n",
      "2 : Hello World\n",
      "3 : Hello World\n",
      "4 : Hello World\n",
      "5 : Hello World\n"
     ]
    }
   ],
   "source": [
    "i = 0\n",
    "while i < 5:\n",
    "    i += 1\n",
    "    print(f'{i} : Hello World')"
   ]
  },
  {
   "cell_type": "markdown",
   "metadata": {},
   "source": [
    "Exercise: Buatlah perkalian 8 dengan while loop"
   ]
  },
  {
   "cell_type": "code",
   "execution_count": 12,
   "metadata": {},
   "outputs": [
    {
     "name": "stdout",
     "output_type": "stream",
     "text": [
      "1 x 8 = 8\n",
      "2 x 8 = 16\n",
      "3 x 8 = 24\n",
      "4 x 8 = 32\n",
      "5 x 8 = 40\n",
      "6 x 8 = 48\n",
      "7 x 8 = 56\n",
      "8 x 8 = 64\n",
      "9 x 8 = 72\n",
      "10 x 8 = 80\n"
     ]
    }
   ],
   "source": [
    "i = 1\n",
    "while i <= 10:\n",
    "    print(f'{i} x 8 = {i * 8}')\n",
    "    i += 1\n",
    "    "
   ]
  },
  {
   "cell_type": "markdown",
   "metadata": {},
   "source": [
    "#### Nested while (while bersarang)"
   ]
  },
  {
   "cell_type": "markdown",
   "metadata": {},
   "source": [
    "Exercise: Buatlah tabel perkalian dari 1 x 1 sampe 10 x 10 menggunakan while loop"
   ]
  },
  {
   "cell_type": "code",
   "execution_count": 22,
   "metadata": {},
   "outputs": [
    {
     "name": "stdout",
     "output_type": "stream",
     "text": [
      "1 x 1 = 1\n",
      "1 x 2 = 2\n",
      "1 x 3 = 3\n",
      "1 x 4 = 4\n",
      "1 x 5 = 5\n",
      "1 x 6 = 6\n",
      "1 x 7 = 7\n",
      "1 x 8 = 8\n",
      "1 x 9 = 9\n",
      "1 x 10 = 10\n",
      "-------------------------\n",
      "2 x 1 = 2\n",
      "2 x 2 = 4\n",
      "2 x 3 = 6\n",
      "2 x 4 = 8\n",
      "2 x 5 = 10\n",
      "2 x 6 = 12\n",
      "2 x 7 = 14\n",
      "2 x 8 = 16\n",
      "2 x 9 = 18\n",
      "2 x 10 = 20\n",
      "-------------------------\n",
      "3 x 1 = 3\n",
      "3 x 2 = 6\n",
      "3 x 3 = 9\n",
      "3 x 4 = 12\n",
      "3 x 5 = 15\n",
      "3 x 6 = 18\n",
      "3 x 7 = 21\n",
      "3 x 8 = 24\n",
      "3 x 9 = 27\n",
      "3 x 10 = 30\n",
      "-------------------------\n",
      "4 x 1 = 4\n",
      "4 x 2 = 8\n",
      "4 x 3 = 12\n",
      "4 x 4 = 16\n",
      "4 x 5 = 20\n",
      "4 x 6 = 24\n",
      "4 x 7 = 28\n",
      "4 x 8 = 32\n",
      "4 x 9 = 36\n",
      "4 x 10 = 40\n",
      "-------------------------\n",
      "5 x 1 = 5\n",
      "5 x 2 = 10\n",
      "5 x 3 = 15\n",
      "5 x 4 = 20\n",
      "5 x 5 = 25\n",
      "5 x 6 = 30\n",
      "5 x 7 = 35\n",
      "5 x 8 = 40\n",
      "5 x 9 = 45\n",
      "5 x 10 = 50\n",
      "-------------------------\n",
      "6 x 1 = 6\n",
      "6 x 2 = 12\n",
      "6 x 3 = 18\n",
      "6 x 4 = 24\n",
      "6 x 5 = 30\n",
      "6 x 6 = 36\n",
      "6 x 7 = 42\n",
      "6 x 8 = 48\n",
      "6 x 9 = 54\n",
      "6 x 10 = 60\n",
      "-------------------------\n",
      "7 x 1 = 7\n",
      "7 x 2 = 14\n",
      "7 x 3 = 21\n",
      "7 x 4 = 28\n",
      "7 x 5 = 35\n",
      "7 x 6 = 42\n",
      "7 x 7 = 49\n",
      "7 x 8 = 56\n",
      "7 x 9 = 63\n",
      "7 x 10 = 70\n",
      "-------------------------\n",
      "8 x 1 = 8\n",
      "8 x 2 = 16\n",
      "8 x 3 = 24\n",
      "8 x 4 = 32\n",
      "8 x 5 = 40\n",
      "8 x 6 = 48\n",
      "8 x 7 = 56\n",
      "8 x 8 = 64\n",
      "8 x 9 = 72\n",
      "8 x 10 = 80\n",
      "-------------------------\n",
      "9 x 1 = 9\n",
      "9 x 2 = 18\n",
      "9 x 3 = 27\n",
      "9 x 4 = 36\n",
      "9 x 5 = 45\n",
      "9 x 6 = 54\n",
      "9 x 7 = 63\n",
      "9 x 8 = 72\n",
      "9 x 9 = 81\n",
      "9 x 10 = 90\n",
      "-------------------------\n",
      "10 x 1 = 10\n",
      "10 x 2 = 20\n",
      "10 x 3 = 30\n",
      "10 x 4 = 40\n",
      "10 x 5 = 50\n",
      "10 x 6 = 60\n",
      "10 x 7 = 70\n",
      "10 x 8 = 80\n",
      "10 x 9 = 90\n",
      "10 x 10 = 100\n",
      "-------------------------\n"
     ]
    }
   ],
   "source": [
    "j = 1\n",
    "i = 1\n",
    "while j <= 10:\n",
    "    while i <= 10:\n",
    "        print(f'{j} x {i} = {j * i}')\n",
    "        i += 1\n",
    "    i = 1\n",
    "    j += 1\n",
    "    print('-' * 25)"
   ]
  },
  {
   "cell_type": "markdown",
   "metadata": {},
   "source": [
    "##### Keywords: break & continue\n",
    "break adalah keywords untuk menghentikan looping secara paksa.  \n",
    "continue adalah keywords untuk menskip suatu loop yang outputnya tidak mau diketahui,"
   ]
  },
  {
   "cell_type": "code",
   "execution_count": 24,
   "metadata": {},
   "outputs": [
    {
     "name": "stdout",
     "output_type": "stream",
     "text": [
      "0\n",
      "1\n",
      "2\n",
      "3\n",
      "4\n"
     ]
    }
   ],
   "source": [
    "# break\n",
    "i = 0\n",
    "while i < 10:\n",
    "    print(i)\n",
    "    if i == 4:\n",
    "        break\n",
    "    i +=1"
   ]
  },
  {
   "cell_type": "code",
   "execution_count": null,
   "metadata": {},
   "outputs": [],
   "source": [
    "# continue (mengakibatkan infinite loop)\n",
    "i = 0\n",
    "while i < 10:\n",
    "    print(i)\n",
    "    if i == 4:\n",
    "        continue\n",
    "    i +=1"
   ]
  },
  {
   "cell_type": "markdown",
   "metadata": {},
   "source": []
  },
  {
   "cell_type": "code",
   "execution_count": 26,
   "metadata": {},
   "outputs": [
    {
     "name": "stdout",
     "output_type": "stream",
     "text": [
      "0\n",
      "1\n",
      "2\n",
      "3\n",
      "4\n",
      "5\n",
      "6\n",
      "7\n",
      "8\n",
      "9\n"
     ]
    }
   ],
   "source": [
    "i = 0\n",
    "while i < 10:\n",
    "    print(i)\n",
    "    i +=1\n",
    "    if i == 4:\n",
    "        continue"
   ]
  },
  {
   "cell_type": "code",
   "execution_count": 29,
   "metadata": {},
   "outputs": [
    {
     "name": "stdout",
     "output_type": "stream",
     "text": [
      "1\n",
      "2\n",
      "3\n",
      "5\n",
      "6\n",
      "7\n",
      "8\n",
      "9\n",
      "10\n"
     ]
    }
   ],
   "source": [
    "i = 0\n",
    "while i < 10:\n",
    "    i +=1\n",
    "    if i == 4:\n",
    "        continue\n",
    "    print(i)"
   ]
  },
  {
   "cell_type": "markdown",
   "metadata": {},
   "source": [
    "##### else pada while loop\n",
    "else pada while loop untuk melihat apakah suatu perintah terbebas dari break atau tidak."
   ]
  },
  {
   "cell_type": "code",
   "execution_count": 31,
   "metadata": {},
   "outputs": [
    {
     "name": "stdout",
     "output_type": "stream",
     "text": [
      "4\n",
      "3\n",
      "2\n"
     ]
    }
   ],
   "source": [
    "# else untuk melihat loop selamat atau tidak\n",
    "n = 5\n",
    "while n > 0:\n",
    "    n -= 1\n",
    "    print(n)\n",
    "    if n == 2:\n",
    "        break\n",
    "else:\n",
    "    print('loop done!')"
   ]
  },
  {
   "cell_type": "markdown",
   "metadata": {},
   "source": [
    "Exercise: Cek bilangan prima dengan menggunakan while loop.  \n",
    "bilangan prima adalah bilangan yang 'habis' atau menghasilkan mod (%) 0 jika dibagi 1 dan dirinya sendiri."
   ]
  },
  {
   "cell_type": "code",
   "execution_count": 32,
   "metadata": {},
   "outputs": [
    {
     "name": "stdout",
     "output_type": "stream",
     "text": [
      "[1, 2, 3, 4, 5, 6, 7, 8]\n"
     ]
    }
   ],
   "source": [
    "list2 = list(range(1,9))\n",
    "print(list2)"
   ]
  },
  {
   "cell_type": "code",
   "execution_count": 33,
   "metadata": {},
   "outputs": [
    {
     "data": {
      "text/plain": [
       "8"
      ]
     },
     "execution_count": 33,
     "metadata": {},
     "output_type": "execute_result"
    }
   ],
   "source": [
    "len(list2)"
   ]
  },
  {
   "cell_type": "code",
   "execution_count": 3,
   "metadata": {},
   "outputs": [
    {
     "name": "stdout",
     "output_type": "stream",
     "text": [
      "15 bisa dibagi dengan 3\n"
     ]
    }
   ],
   "source": [
    "# Cek bilangan prima\n",
    "angka = 15\n",
    "list_pembagi = list(range(2, angka))\n",
    "i = 0\n",
    "while i < len(list_pembagi):\n",
    "    if angka % list_pembagi[i] == 0:\n",
    "        print(f'{angka} bisa dibagi dengan {list_pembagi[i]}')\n",
    "        break\n",
    "    i += 1\n",
    "else:\n",
    "    print(f'{angka} adalah bilangan prima')"
   ]
  },
  {
   "cell_type": "markdown",
   "metadata": {},
   "source": [
    "### for loop\n",
    "while loop tergantung pada kondisi, ada inisiasi i, ada update parameter contohnya i+= 1.  \n",
    "for loop tidak menggunakan kondisi tetapi sistemnya mengabsen item yang ada di data mejemuk (tuple, list, dictionary, set), tidak inisiasi i dan update parameter.  \n",
    "for loop digunakan untuk data majemuk.  \n",
    "syntax for loop:  \n",
    "for i/parameter/variabel in data_majemuk:"
   ]
  },
  {
   "cell_type": "code",
   "execution_count": 2,
   "metadata": {},
   "outputs": [],
   "source": [
    "# membandingkan while loop dengan for loop\n",
    "tukang_buah = ['pepaya', 'mangga', 'pisang', 'jambu']\n"
   ]
  },
  {
   "cell_type": "code",
   "execution_count": 3,
   "metadata": {},
   "outputs": [
    {
     "name": "stdout",
     "output_type": "stream",
     "text": [
      "Abangnya jual pepaya\n",
      "Abangnya jual mangga\n",
      "Abangnya jual pisang\n",
      "Abangnya jual jambu\n"
     ]
    }
   ],
   "source": [
    "# while loop\n",
    "i = 0\n",
    "while i < len(tukang_buah):\n",
    "    print(f'Abangnya jual {tukang_buah[i]}')\n",
    "    i += 1    # update parameter\n"
   ]
  },
  {
   "cell_type": "code",
   "execution_count": 4,
   "metadata": {},
   "outputs": [
    {
     "name": "stdout",
     "output_type": "stream",
     "text": [
      "Abangnya jual pepaya\n",
      "Abangnya jual mangga\n",
      "Abangnya jual pisang\n",
      "Abangnya jual jambu\n"
     ]
    }
   ],
   "source": [
    "# for loop\n",
    "for buah in tukang_buah:\n",
    "    print(f'Abangnya jual {buah}')"
   ]
  },
  {
   "cell_type": "code",
   "execution_count": 31,
   "metadata": {},
   "outputs": [
    {
     "name": "stdout",
     "output_type": "stream",
     "text": [
      "Abangnya jual pepaya\n",
      "Abangnya jual mangga\n",
      "Abangnya jual pisang\n",
      "Abangnya jual jambu\n",
      "Abangnya jual jeruk\n",
      "Abangnya jual jeruk\n",
      "Abangnya jual apel\n"
     ]
    }
   ],
   "source": [
    "# cara lain supaya interface dari for loop sama dengan while loop\n",
    "for i in [0, 1, 2, 3, 4, 5, 6]:\n",
    "    print(f'Abangnya jual {tukang_buah[i]}')"
   ]
  },
  {
   "cell_type": "code",
   "execution_count": 6,
   "metadata": {},
   "outputs": [
    {
     "name": "stdout",
     "output_type": "stream",
     "text": [
      "[1, 2, 3, 4]\n"
     ]
    }
   ],
   "source": [
    "list2 = list(range(1,5))\n",
    "print(list2)"
   ]
  },
  {
   "cell_type": "code",
   "execution_count": 21,
   "metadata": {},
   "outputs": [
    {
     "name": "stdout",
     "output_type": "stream",
     "text": [
      "[0, 1, 2, 3]\n"
     ]
    }
   ],
   "source": [
    "list2 = list(range(len(tukang_buah)))\n",
    "print(list2)"
   ]
  },
  {
   "cell_type": "code",
   "execution_count": 22,
   "metadata": {},
   "outputs": [
    {
     "data": {
      "text/plain": [
       "range(1, 5)"
      ]
     },
     "execution_count": 22,
     "metadata": {},
     "output_type": "execute_result"
    }
   ],
   "source": [
    "range(1,5)"
   ]
  },
  {
   "cell_type": "code",
   "execution_count": 24,
   "metadata": {},
   "outputs": [
    {
     "name": "stdout",
     "output_type": "stream",
     "text": [
      "Abangnya jual pepaya\n",
      "Abangnya jual mangga\n",
      "Abangnya jual pisang\n",
      "Abangnya jual jambu\n"
     ]
    }
   ],
   "source": [
    "# cara lain lagi...\n",
    "for i in range(len(tukang_buah)):\n",
    "    print(f'Abangnya jual {tukang_buah[i]}')"
   ]
  },
  {
   "cell_type": "code",
   "execution_count": 26,
   "metadata": {},
   "outputs": [],
   "source": [
    "tukang_buah.append('jeruk')"
   ]
  },
  {
   "cell_type": "code",
   "execution_count": 27,
   "metadata": {},
   "outputs": [],
   "source": [
    "tukang_buah.append('apel')"
   ]
  },
  {
   "cell_type": "code",
   "execution_count": 28,
   "metadata": {},
   "outputs": [
    {
     "name": "stdout",
     "output_type": "stream",
     "text": [
      "['pepaya', 'mangga', 'pisang', 'jambu', 'jeruk', 'jeruk', 'apel']\n"
     ]
    }
   ],
   "source": [
    "print(tukang_buah)"
   ]
  },
  {
   "cell_type": "markdown",
   "metadata": {},
   "source": [
    "Exercise 1: Buatlah coding untuk perkalian 8 menggunakan for loop"
   ]
  },
  {
   "cell_type": "code",
   "execution_count": 40,
   "metadata": {},
   "outputs": [
    {
     "name": "stdout",
     "output_type": "stream",
     "text": [
      "8 x 1 = 8\n",
      "8 x 2 = 16\n",
      "8 x 3 = 24\n",
      "8 x 4 = 32\n",
      "8 x 5 = 40\n",
      "8 x 6 = 48\n",
      "8 x 7 = 56\n",
      "8 x 8 = 64\n",
      "8 x 9 = 72\n",
      "8 x 10 = 80\n"
     ]
    }
   ],
   "source": [
    "for i in range(1, 11):\n",
    "    print(f'8 x {i} = {8 * i}')\n",
    "    "
   ]
  },
  {
   "cell_type": "markdown",
   "metadata": {},
   "source": [
    "##### Nested for loop (for loop bersarang)\n"
   ]
  },
  {
   "cell_type": "markdown",
   "metadata": {},
   "source": [
    "Exercise 2: Buatlah tabel perkalian dari 1 x 1 sampai 10 x 10 menggunakan for loop"
   ]
  },
  {
   "cell_type": "code",
   "execution_count": 42,
   "metadata": {},
   "outputs": [
    {
     "name": "stdout",
     "output_type": "stream",
     "text": [
      "1 x 1 = 1\n",
      "1 x 2 = 2\n",
      "1 x 3 = 3\n",
      "1 x 4 = 4\n",
      "1 x 5 = 5\n",
      "1 x 6 = 6\n",
      "1 x 7 = 7\n",
      "1 x 8 = 8\n",
      "1 x 9 = 9\n",
      "1 x 10 = 10\n",
      "_________________________\n",
      "2 x 1 = 2\n",
      "2 x 2 = 4\n",
      "2 x 3 = 6\n",
      "2 x 4 = 8\n",
      "2 x 5 = 10\n",
      "2 x 6 = 12\n",
      "2 x 7 = 14\n",
      "2 x 8 = 16\n",
      "2 x 9 = 18\n",
      "2 x 10 = 20\n",
      "_________________________\n",
      "3 x 1 = 3\n",
      "3 x 2 = 6\n",
      "3 x 3 = 9\n",
      "3 x 4 = 12\n",
      "3 x 5 = 15\n",
      "3 x 6 = 18\n",
      "3 x 7 = 21\n",
      "3 x 8 = 24\n",
      "3 x 9 = 27\n",
      "3 x 10 = 30\n",
      "_________________________\n",
      "4 x 1 = 4\n",
      "4 x 2 = 8\n",
      "4 x 3 = 12\n",
      "4 x 4 = 16\n",
      "4 x 5 = 20\n",
      "4 x 6 = 24\n",
      "4 x 7 = 28\n",
      "4 x 8 = 32\n",
      "4 x 9 = 36\n",
      "4 x 10 = 40\n",
      "_________________________\n",
      "5 x 1 = 5\n",
      "5 x 2 = 10\n",
      "5 x 3 = 15\n",
      "5 x 4 = 20\n",
      "5 x 5 = 25\n",
      "5 x 6 = 30\n",
      "5 x 7 = 35\n",
      "5 x 8 = 40\n",
      "5 x 9 = 45\n",
      "5 x 10 = 50\n",
      "_________________________\n",
      "6 x 1 = 6\n",
      "6 x 2 = 12\n",
      "6 x 3 = 18\n",
      "6 x 4 = 24\n",
      "6 x 5 = 30\n",
      "6 x 6 = 36\n",
      "6 x 7 = 42\n",
      "6 x 8 = 48\n",
      "6 x 9 = 54\n",
      "6 x 10 = 60\n",
      "_________________________\n",
      "7 x 1 = 7\n",
      "7 x 2 = 14\n",
      "7 x 3 = 21\n",
      "7 x 4 = 28\n",
      "7 x 5 = 35\n",
      "7 x 6 = 42\n",
      "7 x 7 = 49\n",
      "7 x 8 = 56\n",
      "7 x 9 = 63\n",
      "7 x 10 = 70\n",
      "_________________________\n",
      "8 x 1 = 8\n",
      "8 x 2 = 16\n",
      "8 x 3 = 24\n",
      "8 x 4 = 32\n",
      "8 x 5 = 40\n",
      "8 x 6 = 48\n",
      "8 x 7 = 56\n",
      "8 x 8 = 64\n",
      "8 x 9 = 72\n",
      "8 x 10 = 80\n",
      "_________________________\n",
      "9 x 1 = 9\n",
      "9 x 2 = 18\n",
      "9 x 3 = 27\n",
      "9 x 4 = 36\n",
      "9 x 5 = 45\n",
      "9 x 6 = 54\n",
      "9 x 7 = 63\n",
      "9 x 8 = 72\n",
      "9 x 9 = 81\n",
      "9 x 10 = 90\n",
      "_________________________\n",
      "10 x 1 = 10\n",
      "10 x 2 = 20\n",
      "10 x 3 = 30\n",
      "10 x 4 = 40\n",
      "10 x 5 = 50\n",
      "10 x 6 = 60\n",
      "10 x 7 = 70\n",
      "10 x 8 = 80\n",
      "10 x 9 = 90\n",
      "10 x 10 = 100\n",
      "_________________________\n"
     ]
    }
   ],
   "source": [
    "for j in range(1, 11):\n",
    "    for i in range(1, 11):\n",
    "        print(f'{j} x {i} = {j * i}')\n",
    "    print('_' * 25)\n"
   ]
  },
  {
   "cell_type": "markdown",
   "metadata": {},
   "source": [
    "Exercise 3: cek bilangan prima dengan for loop"
   ]
  },
  {
   "cell_type": "code",
   "execution_count": 6,
   "metadata": {},
   "outputs": [
    {
     "name": "stdout",
     "output_type": "stream",
     "text": [
      "15 dapat dibagi 3\n",
      "jadi 15 bukan bilangan prima\n"
     ]
    }
   ],
   "source": [
    "angka = 15\n",
    "for i in range(2, angka):\n",
    "    if angka % i == 0:\n",
    "        print(f'{angka} dapat dibagi {i}')\n",
    "        print(f'jadi {angka} bukan bilangan prima')\n",
    "        break\n",
    "else:\n",
    "    print(f'{angka} bukan bilangan prima')\n"
   ]
  },
  {
   "cell_type": "markdown",
   "metadata": {},
   "source": [
    "## Final Exercise for Intoduction to Python:\n",
    "\n",
    "Buatlah permainan tebak angka dengan skenario berikut:  \n",
    "Anda disuruh memilih antara bilangan 0 sampai 9\n",
    "Komputer memilih secara acak antara 0 sampai 9 (Anda sebagai user tidak boleh tahu angka pilihan komputer)  \n",
    "\n",
    "Jika pilihan Anda = pilihan komputer maka Anda menang.  \n",
    "Jika pilihan anda > pilihan komputer maka print \"Tebakan terlalu besar\"  \n",
    "Jika pilihan anda < pilihan komputer maka print \"Tebakan terlalu kecil\"  \n",
    "\n",
    "tebakan salah 3x berturut turut program langsung keluar, dan print(\"Anda kalah!\")  \n",
    "saat anda menebak dengan benar, anda harus keluarkan jumlah percobaan menebak.\n",
    "\n"
   ]
  },
  {
   "cell_type": "code",
   "execution_count": 10,
   "metadata": {},
   "outputs": [],
   "source": [
    "from random import randint "
   ]
  },
  {
   "cell_type": "code",
   "execution_count": 11,
   "metadata": {},
   "outputs": [
    {
     "data": {
      "text/plain": [
       "2"
      ]
     },
     "execution_count": 11,
     "metadata": {},
     "output_type": "execute_result"
    }
   ],
   "source": [
    "randint(0, 9)"
   ]
  },
  {
   "cell_type": "markdown",
   "metadata": {},
   "source": []
  }
 ],
 "metadata": {
  "kernelspec": {
   "display_name": "Python 3",
   "language": "python",
   "name": "python3"
  },
  "language_info": {
   "codemirror_mode": {
    "name": "ipython",
    "version": 3
   },
   "file_extension": ".py",
   "mimetype": "text/x-python",
   "name": "python",
   "nbconvert_exporter": "python",
   "pygments_lexer": "ipython3",
   "version": "3.12.4"
  }
 },
 "nbformat": 4,
 "nbformat_minor": 2
}
